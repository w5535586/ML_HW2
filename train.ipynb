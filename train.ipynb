{
 "cells": [
  {
   "cell_type": "code",
   "execution_count": 1,
   "metadata": {},
   "outputs": [],
   "source": [
    "import pandas as pd\n",
    "import numpy as np\n",
    "import re\n",
    "import sklearn\n",
    "from sklearn.utils import resample\n",
    "\n",
    "#For Plotting\n",
    "import matplotlib.pyplot as plt\n",
    "import seaborn as sns\n",
    "from sklearn.model_selection import train_test_split\n",
    "from sklearn.metrics import roc_curve, roc_auc_score\n",
    "import itertools\n",
    "\n",
    "#For model building\n",
    "import sklearn \n",
    "from sklearn.linear_model import LogisticRegression\n",
    "from sklearn.ensemble import RandomForestClassifier\n",
    "from sklearn.model_selection import RandomizedSearchCV\n",
    "from sklearn.tree import DecisionTreeClassifier\n",
    "from sklearn.neighbors import KNeighborsClassifier\n",
    "from sklearn.naive_bayes import GaussianNB\n",
    "\n",
    "#For Metrics evaluation \n",
    "from sklearn.metrics import accuracy_score,classification_report,confusion_matrix\n",
    "\n",
    "def normalize_list(input_list):\n",
    "    min_val = min(input_list)\n",
    "    max_val = max(input_list)\n",
    "    \n",
    "    if min_val == max_val:\n",
    "        # Handle the case where all values are the same to avoid division by zero\n",
    "        return [0.0] * len(input_list)\n",
    "    \n",
    "    normalized_list = [(x - min_val) / (max_val - min_val) for x in input_list]\n",
    "    \n",
    "    return normalized_list"
   ]
  },
  {
   "cell_type": "code",
   "execution_count": 2,
   "metadata": {},
   "outputs": [],
   "source": [
    "train_data = pd.read_csv('train.csv')"
   ]
  },
  {
   "cell_type": "code",
   "execution_count": 3,
   "metadata": {},
   "outputs": [],
   "source": [
    "train_data = train_data.drop(['policy_id'], axis=1)"
   ]
  },
  {
   "cell_type": "code",
   "execution_count": 4,
   "metadata": {},
   "outputs": [
    {
     "data": {
      "image/png": "[encoded data removed]",
      "text/plain": [
       "<Figure size 640x480 with 1 Axes>"
      ]
     },
     "metadata": {},
     "output_type": "display_data"
    }
   ],
   "source": [
    "fig = plt.figure(facecolor='white')\n",
    "\n",
    "ax = fig.add_subplot(1, 1, 1, facecolor='white')\n",
    "\n",
    "plt.pie(train_data['is_claim'].value_counts(), labels=['No Claim', 'Claim'], radius=1, colors=['green', 'orange'],\n",
    "        autopct='%1.1f%%', explode=[0.1, 0.15], labeldistance=1.15, startangle=45,\n",
    "        textprops={'fontsize': 15, 'fontweight': 'bold'})\n",
    "\n",
    "plt.legend(title='Outcome:', loc='upper right', bbox_to_anchor=(1.6, 1))\n",
    "\n",
    "fig.patch.set_facecolor('white')\n",
    "\n",
    "plt.show()"
   ]
  },
  {
   "cell_type": "code",
   "execution_count": 5,
   "metadata": {},
   "outputs": [],
   "source": [
    "train_data['max_torque'].value_counts()\n",
    "train_data['torque'] = train_data['max_torque'].apply(lambda x: re.findall(r'\\d+\\.?\\d*(?=Nm)', x)[0])\n",
    "train_data['rpm'] = train_data['max_torque'].apply(lambda x: re.findall(r'\\d+\\.?\\d*(?=rpm)', x)[0])\n",
    "\n",
    "# Convert the columns to numeric data type\n",
    "train_data['torque'] = pd.to_numeric(train_data['torque'])\n",
    "train_data['rpm'] = pd.to_numeric(train_data['rpm'])\n",
    "\n",
    "# Calculate torque to RPM ratio \n",
    "train_data['torque to rpm ratio'] = train_data['torque'] / train_data['rpm']"
   ]
  },
  {
   "cell_type": "code",
   "execution_count": 6,
   "metadata": {},
   "outputs": [],
   "source": [
    "# Deleting redundant columns from training set\n",
    "train_data.drop('max_torque', axis=1,inplace=True)\n",
    "train_data.drop('rpm',axis=1,inplace=True)\n",
    "train_data.drop('torque',axis=1,inplace=True)"
   ]
  },
  {
   "cell_type": "code",
   "execution_count": 7,
   "metadata": {},
   "outputs": [
    {
     "data": {
      "text/plain": [
       "max_power\n",
       "88.50bhp@6000rpm     17796\n",
       "40.36bhp@6000rpm     14948\n",
       "113.45bhp@4000rpm    14018\n",
       "55.92bhp@5300rpm      4173\n",
       "67.06bhp@5500rpm      2373\n",
       "97.89bhp@3600rpm      2114\n",
       "88.77bhp@4000rpm      1598\n",
       "61.68bhp@6000rpm      1209\n",
       "118.36bhp@5500rpm      363\n",
       "Name: count, dtype: int64"
      ]
     },
     "execution_count": 7,
     "metadata": {},
     "output_type": "execute_result"
    }
   ],
   "source": [
    "train_data['max_power'].value_counts()"
   ]
  },
  {
   "cell_type": "code",
   "execution_count": 8,
   "metadata": {},
   "outputs": [],
   "source": [
    "train_data['power'] = train_data['max_power'].apply(lambda x: re.findall(r'\\d+\\.?\\d*(?=bhp)', x)[0])\n",
    "train_data['rpm'] = train_data['max_power'].apply(lambda x: re.findall(r'\\d+', x)[-1])\n",
    "\n",
    "# Convert the columns to numeric data type\n",
    "train_data['power'] = pd.to_numeric(train_data['power'])\n",
    "train_data['rpm'] = pd.to_numeric(train_data['rpm'])\n",
    "\n",
    "# Calculate power to RPM ratio\n",
    "train_data['power to rpm ratio'] = train_data['power'] / train_data['rpm']"
   ]
  },
  {
   "cell_type": "code",
   "execution_count": 9,
   "metadata": {},
   "outputs": [],
   "source": [
    "train_data.drop('power', axis=1,inplace=True)\n",
    "train_data.drop('rpm',axis=1,inplace=True)\n",
    "train_data.drop('max_power',axis=1,inplace=True)"
   ]
  },
  {
   "cell_type": "code",
   "execution_count": 10,
   "metadata": {},
   "outputs": [
    {
     "name": "stdout",
     "output_type": "stream",
     "text": [
      "['is_esc', 'is_adjustable_steering', 'is_tpms', 'is_parking_sensors', 'is_parking_camera', 'is_front_fog_lights', 'is_rear_window_wiper', 'is_rear_window_washer', 'is_rear_window_defogger', 'is_brake_assist', 'is_power_door_locks', 'is_central_locking', 'is_power_steering', 'is_driver_seat_height_adjustable', 'is_day_night_rear_view_mirror', 'is_ecw', 'is_speed_alert']\n"
     ]
    }
   ],
   "source": [
    "is_cols=[col for col in train_data.columns if col.startswith(\"is\") and col!=\"is_claim\"]\n",
    "print(is_cols)"
   ]
  },
  {
   "cell_type": "code",
   "execution_count": 11,
   "metadata": {},
   "outputs": [],
   "source": [
    "train_data = train_data.replace({ \"No\" : 0 , \"Yes\" : 1 })"
   ]
  },
  {
   "cell_type": "code",
   "execution_count": 12,
   "metadata": {},
   "outputs": [
    {
     "name": "stdout",
     "output_type": "stream",
     "text": [
      " Data Set Numerical columns:\n",
      "35\n",
      "Index(['policy_tenure', 'age_of_car', 'age_of_policyholder',\n",
      "       'population_density', 'make', 'airbags', 'is_esc',\n",
      "       'is_adjustable_steering', 'is_tpms', 'is_parking_sensors',\n",
      "       'is_parking_camera', 'displacement', 'cylinder', 'gear_box',\n",
      "       'turning_radius', 'length', 'width', 'height', 'gross_weight',\n",
      "       'is_front_fog_lights', 'is_rear_window_wiper', 'is_rear_window_washer',\n",
      "       'is_rear_window_defogger', 'is_brake_assist', 'is_power_door_locks',\n",
      "       'is_central_locking', 'is_power_steering',\n",
      "       'is_driver_seat_height_adjustable', 'is_day_night_rear_view_mirror',\n",
      "       'is_ecw', 'is_speed_alert', 'ncap_rating', 'is_claim',\n",
      "       'torque to rpm ratio', 'power to rpm ratio'],\n",
      "      dtype='object')\n"
     ]
    }
   ],
   "source": [
    "dataset_num_col = train_data.select_dtypes(include=['int', 'float']).columns\n",
    "print(\" Data Set Numerical columns:\")\n",
    "print(dataset_num_col.nunique())\n",
    "print(dataset_num_col)"
   ]
  },
  {
   "cell_type": "code",
   "execution_count": 13,
   "metadata": {},
   "outputs": [
    {
     "name": "stdout",
     "output_type": "stream",
     "text": [
      "Data Set categorical columns:\n",
      "8\n",
      "Index(['area_cluster', 'segment', 'model', 'fuel_type', 'engine_type',\n",
      "       'rear_brakes_type', 'transmission_type', 'steering_type'],\n",
      "      dtype='object')\n"
     ]
    }
   ],
   "source": [
    "dataset_cat_cols = train_data.select_dtypes(include=['object']).columns\n",
    "print(\"Data Set categorical columns:\")\n",
    "print(dataset_cat_cols.nunique())\n",
    "print(dataset_cat_cols)"
   ]
  },
  {
   "cell_type": "code",
   "execution_count": 14,
   "metadata": {},
   "outputs": [],
   "source": [
    "train_data= pd.get_dummies(train_data, columns=dataset_cat_cols,drop_first=True)"
   ]
  },
  {
   "cell_type": "code",
   "execution_count": 15,
   "metadata": {},
   "outputs": [
    {
     "name": "stdout",
     "output_type": "stream",
     "text": [
      "\u001b[1mBefore Sampling\u001b[0m\n",
      "\n",
      "Shape of the data : (58592, 87)\n",
      "\n",
      "Value Counts\n",
      "is_claim\n",
      "0    54844\n",
      "1     3748\n",
      "Name: count, dtype: int64\n",
      "\n",
      "Data is Imbalanced\n",
      "\n",
      "\u001b[1mAfter Sampling\u001b[0m\n",
      "\n",
      "Shape of the data : (7496, 87)\n",
      "\n",
      "Value Counts\n",
      "is_claim\n",
      "0    3748\n",
      "1    3748\n",
      "Name: count, dtype: int64\n"
     ]
    }
   ],
   "source": [
    "from imblearn.under_sampling import RandomUnderSampler\n",
    "from imblearn.over_sampling import SMOTE\n",
    "\n",
    "def balanced_data(X_data, y_data):\n",
    "    \n",
    "    minority_class, majority_class = y_data.value_counts().sort_values().values\n",
    "    print('\\033[1m' + \"Before Sampling\" + '\\033[0m')\n",
    "    print(f\"\\nShape of the data : {X_data.shape}\\n\\nValue Counts\\n{y_data.value_counts()}\")\n",
    "    \n",
    "    if (minority_class * 2) > majority_class:\n",
    "        print(\"Data is Balanced\")\n",
    "    else:\n",
    "        print(f\"\\nData is Imbalanced\")\n",
    "        print('\\n\\033[1m' + \"After Sampling\" + '\\033[0m\\n')\n",
    "        # 使用RandomUnderSampler進行undersampling\n",
    "        rus = RandomUnderSampler(sampling_strategy=1, random_state=42)\n",
    "        X_resampled, y_resampled = rus.fit_resample(X_data, y_data)\n",
    "        \n",
    "        # 使用SMOTE進行oversampling\n",
    "        X_resampled, y_resampled = SMOTE().fit_resample(X_resampled, y_resampled)\n",
    "        \n",
    "        print(f\"Shape of the data : {X_resampled.shape}\\n\\nValue Counts\\n{y_resampled.value_counts()}\")\n",
    "        \n",
    "        return X_resampled, y_resampled\n",
    "\n",
    "y = train_data['is_claim']\n",
    "train_data, y = balanced_data(train_data, y)\n"
   ]
  },
  {
   "cell_type": "code",
   "execution_count": 17,
   "metadata": {},
   "outputs": [],
   "source": [
    "X = train_data.drop(['is_claim'], axis=1)  # Features"
   ]
  },
  {
   "cell_type": "code",
   "execution_count": 18,
   "metadata": {},
   "outputs": [],
   "source": [
    "#分割train:val:test = 8:1:1\n",
    "X_train,X_test,y_train,y_test=train_test_split(X,y,test_size=0.6,random_state=42,stratify=y)\n",
    "X_val,X_test,y_val,y_test=train_test_split(X_test,y_test,test_size=0.5,random_state=42,stratify=y_test)"
   ]
  },
  {
   "cell_type": "code",
   "execution_count": 19,
   "metadata": {},
   "outputs": [
    {
     "data": {
      "text/plain": [
       "(is_claim\n",
       " 1    1499\n",
       " 0    1499\n",
       " Name: count, dtype: int64,\n",
       " is_claim\n",
       " 1    1125\n",
       " 0    1124\n",
       " Name: count, dtype: int64,\n",
       " is_claim\n",
       " 0    1125\n",
       " 1    1124\n",
       " Name: count, dtype: int64)"
      ]
     },
     "execution_count": 19,
     "metadata": {},
     "output_type": "execute_result"
    }
   ],
   "source": [
    "#檢查分割資料數據是否balance\n",
    "y_train.value_counts(),y_val.value_counts(),y_test.value_counts()"
   ]
  },
  {
   "cell_type": "code",
   "execution_count": 20,
   "metadata": {},
   "outputs": [],
   "source": [
    "boolean_columns = X_train.select_dtypes(include=['bool']).columns"
   ]
  },
  {
   "cell_type": "code",
   "execution_count": 21,
   "metadata": {},
   "outputs": [],
   "source": [
    "for i in boolean_columns:\n",
    "    X_train[i] = X_train[i].astype(int)\n",
    "    X_val[i] = X_val[i].astype(int)\n",
    "    X_test[i] = X_test[i].astype(int)"
   ]
  },
  {
   "cell_type": "code",
   "execution_count": 22,
   "metadata": {},
   "outputs": [],
   "source": [
    "X_train_df = X_train.copy()\n",
    "X_val_df = X_val.copy()\n",
    "X_test_df = X_test.copy()"
   ]
  },
  {
   "cell_type": "code",
   "execution_count": 23,
   "metadata": {},
   "outputs": [],
   "source": [
    "from sklearn.preprocessing import StandardScaler, Normalizer\n",
    "X_train = StandardScaler().fit_transform(X_train)\n",
    "X_val = StandardScaler().fit_transform(X_val)\n",
    "X_test = StandardScaler().fit_transform(X_test)"
   ]
  },
  {
   "cell_type": "markdown",
   "metadata": {},
   "source": [
    "###########################第一題###########################"
   ]
  },
  {
   "cell_type": "code",
   "execution_count": 28,
   "metadata": {},
   "outputs": [
    {
     "name": "stdout",
     "output_type": "stream",
     "text": [
      "第1次訓練\n",
      "Training Accuracy: 0.5\n",
      "第2次訓練\n",
      "Training Accuracy: 0.7121414276184123\n",
      "第3次訓練\n",
      "Training Accuracy: 0.7121414276184123\n",
      "第4次訓練\n",
      "Training Accuracy: 0.7114743162108073\n",
      "第5次訓練\n",
      "Training Accuracy: 0.7114743162108073\n",
      "第6次訓練\n",
      "Training Accuracy: 0.7104736490993996\n",
      "第7次訓練\n",
      "Training Accuracy: 0.7108072048032021\n",
      "第8次訓練\n",
      "Training Accuracy: 0.709472981987992\n",
      "第9次訓練\n",
      "Training Accuracy: 0.709472981987992\n",
      "第10次訓練\n",
      "Training Accuracy: 0.7098065376917946\n",
      "第11次訓練\n",
      "Training Accuracy: 0.709472981987992\n",
      "第12次訓練\n",
      "Training Accuracy: 0.7091394262841895\n",
      "第13次訓練\n",
      "Training Accuracy: 0.7084723148765844\n",
      "第14次訓練\n",
      "Training Accuracy: 0.7091394262841895\n",
      "第15次訓練\n",
      "Training Accuracy: 0.7084723148765844\n",
      "第16次訓練\n",
      "Training Accuracy: 0.7078052034689793\n",
      "第17次訓練\n",
      "Training Accuracy: 0.7088058705803869\n",
      "第18次訓練\n",
      "Training Accuracy: 0.7084723148765844\n",
      "第19次訓練\n",
      "Training Accuracy: 0.7084723148765844\n",
      "第20次訓練\n",
      "Training Accuracy: 0.7074716477651768\n",
      "第21次訓練\n",
      "Training Accuracy: 0.7088058705803869\n",
      "第22次訓練\n",
      "Training Accuracy: 0.7078052034689793\n",
      "第23次訓練\n",
      "Training Accuracy: 0.7068045363575717\n",
      "第24次訓練\n",
      "Training Accuracy: 0.7061374249499667\n",
      "第25次訓練\n",
      "Training Accuracy: 0.7054703135423616\n",
      "第26次訓練\n",
      "Training Accuracy: 0.705136757838559\n",
      "第27次訓練\n",
      "Training Accuracy: 0.705136757838559\n",
      "第28次訓練\n",
      "Training Accuracy: 0.7061374249499667\n",
      "第29次訓練\n",
      "Training Accuracy: 0.7061374249499667\n",
      "第30次訓練\n",
      "Training Accuracy: 0.7048032021347566\n",
      "第31次訓練\n",
      "Training Accuracy: 0.7048032021347566\n",
      "第32次訓練\n",
      "Training Accuracy: 0.704469646430954\n",
      "第33次訓練\n",
      "Training Accuracy: 0.7041360907271514\n",
      "第34次訓練\n",
      "Training Accuracy: 0.704469646430954\n",
      "第35次訓練\n",
      "Training Accuracy: 0.7034689793195463\n",
      "第36次訓練\n",
      "Training Accuracy: 0.7024683122081388\n",
      "第37次訓練\n",
      "Training Accuracy: 0.7018012008005337\n",
      "第38次訓練\n",
      "Training Accuracy: 0.7018012008005337\n",
      "第39次訓練\n",
      "Training Accuracy: 0.700133422281521\n",
      "第40次訓練\n",
      "Training Accuracy: 0.6987991994663109\n",
      "第41次訓練\n",
      "Training Accuracy: 0.6974649766511007\n",
      "第42次訓練\n",
      "Training Accuracy: 0.6971314209472982\n",
      "第43次訓練\n",
      "Training Accuracy: 0.6964643095396932\n",
      "第44次訓練\n",
      "Training Accuracy: 0.6961307538358906\n",
      "第45次訓練\n",
      "Training Accuracy: 0.6954636424282855\n",
      "第46次訓練\n",
      "Training Accuracy: 0.6941294196130754\n",
      "第47次訓練\n",
      "Training Accuracy: 0.6914609739826552\n",
      "第48次訓練\n",
      "Training Accuracy: 0.69079386257505\n",
      "第49次訓練\n",
      "Training Accuracy: 0.6877918612408273\n",
      "第50次訓練\n",
      "Training Accuracy: 0.686457638425617\n",
      "第51次訓練\n",
      "Training Accuracy: 0.6844563042028019\n",
      "第52次訓練\n",
      "Training Accuracy: 0.6704469646430954\n",
      "第53次訓練\n",
      "Training Accuracy: 0.6677785190126752\n",
      "第54次訓練\n",
      "Training Accuracy: 0.6644429619746498\n",
      "第55次訓練\n",
      "Training Accuracy: 0.6627751834556371\n",
      "第56次訓練\n",
      "Training Accuracy: 0.6607738492328219\n",
      "第57次訓練\n",
      "Training Accuracy: 0.6597731821214142\n",
      "第58次訓練\n",
      "Training Accuracy: 0.6594396264176118\n",
      "第59次訓練\n",
      "Training Accuracy: 0.6577718478985991\n",
      "第60次訓練\n",
      "Training Accuracy: 0.6567711807871914\n",
      "第61次訓練\n",
      "Training Accuracy: 0.6551034022681788\n",
      "第62次訓練\n",
      "Training Accuracy: 0.6537691794529686\n",
      "第63次訓練\n",
      "Training Accuracy: 0.6531020680453635\n",
      "第64次訓練\n",
      "Training Accuracy: 0.6524349566377585\n",
      "第65次訓練\n",
      "Training Accuracy: 0.6517678452301534\n",
      "第66次訓練\n",
      "Training Accuracy: 0.6511007338225484\n",
      "第67次訓練\n",
      "Training Accuracy: 0.6507671781187458\n",
      "第68次訓練\n",
      "Training Accuracy: 0.6501000667111407\n",
      "第69次訓練\n",
      "Training Accuracy: 0.6487658438959306\n",
      "第70次訓練\n",
      "Training Accuracy: 0.6474316210807205\n",
      "第71次訓練\n",
      "Training Accuracy: 0.6457638425617078\n",
      "第72次訓練\n",
      "Training Accuracy: 0.6447631754503002\n",
      "第73次訓練\n",
      "Training Accuracy: 0.642761841227485\n",
      "第74次訓練\n",
      "Training Accuracy: 0.6420947298198799\n",
      "第75次訓練\n",
      "Training Accuracy: 0.6394262841894597\n",
      "第76次訓練\n",
      "Training Accuracy: 0.6394262841894597\n",
      "第77次訓練\n",
      "Training Accuracy: 0.6390927284856571\n",
      "第78次訓練\n",
      "Training Accuracy: 0.6387591727818546\n",
      "第79次訓練\n",
      "Training Accuracy: 0.6370913942628419\n",
      "第80次訓練\n",
      "Training Accuracy: 0.6367578385590393\n",
      "第81次訓練\n",
      "Training Accuracy: 0.6347565043362241\n",
      "第82次訓練\n",
      "Training Accuracy: 0.6344229486324217\n",
      "第83次訓練\n",
      "Training Accuracy: 0.6340893929286191\n",
      "第84次訓練\n",
      "Training Accuracy: 0.633422281521014\n",
      "第85次訓練\n",
      "Training Accuracy: 0.6324216144096064\n",
      "第86次訓練\n",
      "Training Accuracy: 0.6324216144096064\n",
      "第87次訓練\n",
      "Training Accuracy: 0.6317545030020013\n",
      "第88次訓練\n",
      "Training Accuracy: 0.6307538358905938\n",
      "第89次訓練\n",
      "Training Accuracy: 0.6297531687791861\n",
      "第90次訓練\n",
      "Training Accuracy: 0.6294196130753836\n",
      "第91次訓練\n",
      "Training Accuracy: 0.628418945963976\n",
      "第92次訓練\n",
      "Training Accuracy: 0.6264176117411607\n",
      "第93次訓練\n",
      "Training Accuracy: 0.6260840560373583\n",
      "第94次訓練\n",
      "Training Accuracy: 0.6260840560373583\n",
      "第95次訓練\n",
      "Training Accuracy: 0.6260840560373583\n",
      "第96次訓練\n",
      "Training Accuracy: 0.6257505003335557\n",
      "第97次訓練\n",
      "Training Accuracy: 0.6257505003335557\n",
      "第98次訓練\n",
      "Training Accuracy: 0.6244162775183456\n",
      "第99次訓練\n",
      "Training Accuracy: 0.624082721814543\n",
      "第100次訓練\n",
      "Training Accuracy: 0.6230820547031354\n",
      "\n",
      "The Val Accuracy of our classifier is: 0.542463317029791\n",
      "\n",
      "The Test Accuracy of our classifier is: 0.5313472654513117\n"
     ]
    },
    {
     "data": {
      "image/png": "[encoded data removed]",
      "text/plain": [
       "<Figure size 640x480 with 1 Axes>"
      ]
     },
     "metadata": {},
     "output_type": "display_data"
    }
   ],
   "source": [
    "import model\n",
    "classifier = model.KernelLinearClassifier()\n",
    "classifier.fit(X_train, y_train, X_val, y_val)\n",
    "classifier_y_val_pred = classifier.predict(X_val)\n",
    "print (\"\\nThe Val Accuracy of our classifier is:\", sklearn.metrics.accuracy_score(y_val, classifier_y_val_pred))\n",
    "\n",
    "classifier_y_test_pred = classifier.predict(X_test)\n",
    "print (\"\\nThe Test Accuracy of our classifier is:\", sklearn.metrics.accuracy_score(y_test, classifier_y_test_pred))\n",
    "#classifier.plot_loss(save_path=\"LinearClassifier_loss_plot.png\") "
   ]
  },
  {
   "cell_type": "code",
   "execution_count": 29,
   "metadata": {},
   "outputs": [
    {
     "name": "stdout",
     "output_type": "stream",
     "text": [
      "\n",
      "The Val Accuracy of our Knn is: 0.5264562027567808\n"
     ]
    }
   ],
   "source": [
    "import model\n",
    "knn = model.kNN()\n",
    "knn.fit(X_train, y_train.to_numpy())\n",
    "knn_y_val_pred = knn.predict(X_val)\n",
    "print (\"\\nThe Val Accuracy of our Knn is:\", sklearn.metrics.accuracy_score(y_val, knn_y_val_pred))\n",
    "\n",
    "knn_y_test_pred = knn.predict(X_test)\n",
    "print (\"\\nThe Test Accuracy of our Knn is:\", sklearn.metrics.accuracy_score(y_test, knn_y_test_pred))"
   ]
  },
  {
   "cell_type": "code",
   "execution_count": null,
   "metadata": {},
   "outputs": [],
   "source": [
    "#New Feature\n",
    "X_stacked = np.array([classifier_y_val_pred, knn_y_val_pred]).T\n",
    "\n",
    "Stacking_tree = model.PruneDecisionTreeClassifier(max_depth=5, min_samples_split=2)  # 設置樹的最大深度\n",
    "Stacking_tree.fit(X_stacked, y_val)\n",
    "print(\"開始預測\")\n",
    "stack_y_val_pred = Stacking_tree.predict(X_stacked)\n",
    "print (\"\\nThe Val Accuracy of our new feature is:\", sklearn.metrics.accuracy_score(y_val, stack_y_val_pred))\n",
    "\n",
    "print (\"\\nThe Val Accuracy of our classifier old feature is:\", sklearn.metrics.accuracy_score(y_val, classifier_y_val_pred))\n",
    "print (\"\\nThe Val Accuracy of our knn old feature is:\", sklearn.metrics.accuracy_score(y_val, knn_y_val_pred))"
   ]
  },
  {
   "cell_type": "markdown",
   "metadata": {},
   "source": [
    "###########################第二題###########################"
   ]
  },
  {
   "cell_type": "code",
   "execution_count": null,
   "metadata": {},
   "outputs": [],
   "source": [
    "import model\n",
    "y_train = np.array(y_train)\n",
    "deep_random_forest = model.DeepRandomForest(num_trees=5, num_features=10, num_instances=50, num_classes=2)\n",
    "deep_random_forest.train(X_train, y_train)\n",
    "drf_y_val_pred = deep_random_forest.predict(X_val)\n",
    "print (\"\\nThe Val Accuracy of our Knn is:\", sklearn.metrics.accuracy_score(y_val, drf_y_val_pred))\n",
    "\n",
    "drf_y_test_pred = deep_random_forest.predict(X_test)\n",
    "print (\"\\nThe Test Accuracy of our Knn is:\", sklearn.metrics.accuracy_score(y_test, drf_y_test_pred))"
   ]
  },
  {
   "cell_type": "code",
   "execution_count": null,
   "metadata": {},
   "outputs": [],
   "source": [
    "import model\n",
    "# 初始化隨機森林模型並擬合數據\n",
    "rf = model.RandomForest(num_trees=5, num_features=10, num_instances=50, num_classes=2)\n",
    "rf.fit(X_train, y_train)\n",
    "rf_y_val_pred = rf.predict(X_val)\n",
    "print (\"\\nThe Val Accuracy of our Knn is:\", sklearn.metrics.accuracy_score(y_val, rf_y_val_pred))\n",
    "\n",
    "rf_y_test_pred = rf.predict(X_test)\n",
    "print (\"\\nThe Test Accuracy of our Knn is:\", sklearn.metrics.accuracy_score(y_test, rf_y_test_pred))"
   ]
  },
  {
   "cell_type": "markdown",
   "metadata": {},
   "source": [
    "###########################第二題###########################"
   ]
  }
 ],
 "metadata": {
  "kernelspec": {
   "display_name": "wen",
   "language": "python",
   "name": "python3"
  },
  "language_info": {
   "codemirror_mode": {
    "name": "ipython",
    "version": 3
   },
   "file_extension": ".py",
   "mimetype": "text/x-python",
   "name": "python",
   "nbconvert_exporter": "python",
   "pygments_lexer": "ipython3",
   "version": "3.8.0"
  }
 },
 "nbformat": 4,
 "nbformat_minor": 2
}
